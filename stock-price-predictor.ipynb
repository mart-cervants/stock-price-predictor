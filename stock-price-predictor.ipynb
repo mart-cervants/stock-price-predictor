{
 "cells": [
  {
   "cell_type": "markdown",
   "id": "b71c93bc",
   "metadata": {},
   "source": [
    "# Stock price predictor"
   ]
  },
  {
   "cell_type": "code",
   "execution_count": 1,
   "id": "b010ebde",
   "metadata": {
    "scrolled": true
   },
   "outputs": [],
   "source": [
    "#pip install yfinance"
   ]
  },
  {
   "cell_type": "code",
   "execution_count": 2,
   "id": "defbb72e",
   "metadata": {},
   "outputs": [],
   "source": [
    "import numpy as np\n",
    "import pandas as pd \n",
    "import yfinance as yf \n",
    "import seaborn as sns\n",
    "import matplotlib.pyplot as plt\n",
    "%matplotlib inline "
   ]
  },
  {
   "cell_type": "code",
   "execution_count": 3,
   "id": "e3d7ea77",
   "metadata": {},
   "outputs": [
    {
     "name": "stdout",
     "output_type": "stream",
     "text": [
      "Enter the code of the stock:- NG=F\n",
      "[*********************100%***********************]  1 of 1 completed\n"
     ]
    },
    {
     "data": {
      "text/html": [
       "<div>\n",
       "<style scoped>\n",
       "    .dataframe tbody tr th:only-of-type {\n",
       "        vertical-align: middle;\n",
       "    }\n",
       "\n",
       "    .dataframe tbody tr th {\n",
       "        vertical-align: top;\n",
       "    }\n",
       "\n",
       "    .dataframe thead th {\n",
       "        text-align: right;\n",
       "    }\n",
       "</style>\n",
       "<table border=\"1\" class=\"dataframe\">\n",
       "  <thead>\n",
       "    <tr style=\"text-align: right;\">\n",
       "      <th></th>\n",
       "      <th>Open</th>\n",
       "      <th>High</th>\n",
       "      <th>Low</th>\n",
       "      <th>Close</th>\n",
       "      <th>Adj Close</th>\n",
       "      <th>Volume</th>\n",
       "    </tr>\n",
       "    <tr>\n",
       "      <th>Date</th>\n",
       "      <th></th>\n",
       "      <th></th>\n",
       "      <th></th>\n",
       "      <th></th>\n",
       "      <th></th>\n",
       "      <th></th>\n",
       "    </tr>\n",
       "  </thead>\n",
       "  <tbody>\n",
       "    <tr>\n",
       "      <th>2008-01-02</th>\n",
       "      <td>7.572</td>\n",
       "      <td>7.876</td>\n",
       "      <td>7.564</td>\n",
       "      <td>7.850</td>\n",
       "      <td>7.850</td>\n",
       "      <td>68553</td>\n",
       "    </tr>\n",
       "    <tr>\n",
       "      <th>2008-01-03</th>\n",
       "      <td>7.873</td>\n",
       "      <td>7.980</td>\n",
       "      <td>7.610</td>\n",
       "      <td>7.674</td>\n",
       "      <td>7.674</td>\n",
       "      <td>72742</td>\n",
       "    </tr>\n",
       "    <tr>\n",
       "      <th>2008-01-04</th>\n",
       "      <td>7.652</td>\n",
       "      <td>7.859</td>\n",
       "      <td>7.500</td>\n",
       "      <td>7.841</td>\n",
       "      <td>7.841</td>\n",
       "      <td>61496</td>\n",
       "    </tr>\n",
       "    <tr>\n",
       "      <th>2008-01-07</th>\n",
       "      <td>7.803</td>\n",
       "      <td>7.940</td>\n",
       "      <td>7.701</td>\n",
       "      <td>7.879</td>\n",
       "      <td>7.879</td>\n",
       "      <td>56675</td>\n",
       "    </tr>\n",
       "    <tr>\n",
       "      <th>2008-01-08</th>\n",
       "      <td>7.909</td>\n",
       "      <td>7.997</td>\n",
       "      <td>7.880</td>\n",
       "      <td>7.967</td>\n",
       "      <td>7.967</td>\n",
       "      <td>53775</td>\n",
       "    </tr>\n",
       "  </tbody>\n",
       "</table>\n",
       "</div>"
      ],
      "text/plain": [
       "             Open   High    Low  Close  Adj Close  Volume\n",
       "Date                                                     \n",
       "2008-01-02  7.572  7.876  7.564  7.850      7.850   68553\n",
       "2008-01-03  7.873  7.980  7.610  7.674      7.674   72742\n",
       "2008-01-04  7.652  7.859  7.500  7.841      7.841   61496\n",
       "2008-01-07  7.803  7.940  7.701  7.879      7.879   56675\n",
       "2008-01-08  7.909  7.997  7.880  7.967      7.967   53775"
      ]
     },
     "execution_count": 3,
     "metadata": {},
     "output_type": "execute_result"
    }
   ],
   "source": [
    "stocks = input('Enter the code of the stock:- ')\n",
    "data = yf.download(stocks, '2008-01-01', '2021-01-18')\n",
    "data.head()"
   ]
  },
  {
   "cell_type": "code",
   "execution_count": 4,
   "id": "707a59f3",
   "metadata": {},
   "outputs": [
    {
     "data": {
      "text/plain": [
       "(3282, 6)"
      ]
     },
     "execution_count": 4,
     "metadata": {},
     "output_type": "execute_result"
    }
   ],
   "source": [
    "data.shape"
   ]
  },
  {
   "cell_type": "code",
   "execution_count": 5,
   "id": "61901e40",
   "metadata": {},
   "outputs": [
    {
     "name": "stdout",
     "output_type": "stream",
     "text": [
      "<class 'pandas.core.frame.DataFrame'>\n",
      "DatetimeIndex: 3282 entries, 2008-01-02 to 2021-01-15\n",
      "Data columns (total 6 columns):\n",
      " #   Column     Non-Null Count  Dtype  \n",
      "---  ------     --------------  -----  \n",
      " 0   Open       3282 non-null   float64\n",
      " 1   High       3282 non-null   float64\n",
      " 2   Low        3282 non-null   float64\n",
      " 3   Close      3282 non-null   float64\n",
      " 4   Adj Close  3282 non-null   float64\n",
      " 5   Volume     3282 non-null   int64  \n",
      "dtypes: float64(5), int64(1)\n",
      "memory usage: 179.5 KB\n"
     ]
    }
   ],
   "source": [
    "data.info()"
   ]
  },
  {
   "cell_type": "code",
   "execution_count": 6,
   "id": "803b2e2e",
   "metadata": {},
   "outputs": [
    {
     "data": {
      "image/png": "[encoded data removed]",
      "text/plain": [
       "<Figure size 720x504 with 1 Axes>"
      ]
     },
     "metadata": {
      "needs_background": "light"
     },
     "output_type": "display_data"
    }
   ],
   "source": [
    "data.Close.plot(figsize=(10,7), color='r')\n",
    "plt.ylabel('{} Prices'.format(stocks))\n",
    "plt.title('{} Prices Series'.format(stocks))\n",
    "plt.show()"
   ]
  },
  {
   "cell_type": "code",
   "execution_count": 7,
   "id": "7be5e7e3",
   "metadata": {},
   "outputs": [
    {
     "name": "stderr",
     "output_type": "stream",
     "text": [
      "C:\\Users\\MACB\\AppData\\Local\\Programs\\Python\\Python39\\lib\\site-packages\\seaborn\\distributions.py:2619: FutureWarning: `distplot` is a deprecated function and will be removed in a future version. Please adapt your code to use either `displot` (a figure-level function with similar flexibility) or `histplot` (an axes-level function for histograms).\n",
      "  warnings.warn(msg, FutureWarning)\n"
     ]
    },
    {
     "data": {
      "text/plain": [
       "<AxesSubplot:xlabel='Close', ylabel='Density'>"
      ]
     },
     "execution_count": 7,
     "metadata": {},
     "output_type": "execute_result"
    },
    {
     "data": {
      "image/png": "[encoded data removed]",
      "text/plain": [
       "<Figure size 432x288 with 1 Axes>"
      ]
     },
     "metadata": {
      "needs_background": "light"
     },
     "output_type": "display_data"
    }
   ],
   "source": [
    "sns.distplot(data[\"Close\"])"
   ]
  },
  {
   "cell_type": "code",
   "execution_count": 8,
   "id": "b43d08ca",
   "metadata": {},
   "outputs": [
    {
     "name": "stderr",
     "output_type": "stream",
     "text": [
      "C:\\Users\\MACB\\AppData\\Local\\Programs\\Python\\Python39\\lib\\site-packages\\seaborn\\distributions.py:2619: FutureWarning: `distplot` is a deprecated function and will be removed in a future version. Please adapt your code to use either `displot` (a figure-level function with similar flexibility) or `histplot` (an axes-level function for histograms).\n",
      "  warnings.warn(msg, FutureWarning)\n"
     ]
    },
    {
     "data": {
      "text/plain": [
       "<AxesSubplot:xlabel='High', ylabel='Density'>"
      ]
     },
     "execution_count": 8,
     "metadata": {},
     "output_type": "execute_result"
    },
    {
     "data": {
      "image/png": "[encoded data removed]",
      "text/plain": [
       "<Figure size 432x288 with 1 Axes>"
      ]
     },
     "metadata": {
      "needs_background": "light"
     },
     "output_type": "display_data"
    }
   ],
   "source": [
    "sns.distplot(data['High'])"
   ]
  },
  {
   "cell_type": "code",
   "execution_count": 9,
   "id": "eb5568b1",
   "metadata": {},
   "outputs": [
    {
     "name": "stdout",
     "output_type": "stream",
     "text": [
      "(2625, 5)\n",
      "(657, 5)\n",
      "(2625,)\n",
      "(657,)\n"
     ]
    }
   ],
   "source": [
    "X = data.drop('Close', axis=1)\n",
    "y = data['Close']\n",
    "\n",
    "from sklearn.model_selection import train_test_split\n",
    "\n",
    "X_train, X_test, y_train, y_test = train_test_split(X, y, test_size=0.2, random_state=0)\n",
    "\n",
    "print(X_train.shape)\n",
    "print(X_test.shape)\n",
    "print(y_train.shape)\n",
    "print(y_test.shape)"
   ]
  },
  {
   "cell_type": "code",
   "execution_count": 10,
   "id": "8064d71d",
   "metadata": {},
   "outputs": [],
   "source": [
    "from sklearn.linear_model import LinearRegression\n",
    "\n",
    "lr = LinearRegression()\n",
    "lr.fit(X_train, y_train)\n",
    "pred1 = lr.predict(X_test)"
   ]
  },
  {
   "cell_type": "code",
   "execution_count": 11,
   "id": "53f43ff4",
   "metadata": {},
   "outputs": [
    {
     "data": {
      "text/plain": [
       "array([ 2.81200004,  5.8210001 ,  2.66199994,  5.98999977,  2.08299994,\n",
       "       12.86100006,  3.98799992,  4.82200003,  1.78199995,  4.79500008,\n",
       "        2.83999991,  3.55999994,  2.73699999,  2.96099997,  4.22700024,\n",
       "        2.46300006,  4.12099981,  4.55999994,  8.96500015,  2.93899989,\n",
       "        4.35500002,  2.67499995,  2.53500009,  2.33699989,  2.85299993,\n",
       "        1.94400001,  2.75900006,  3.93799996,  3.30599999,  4.70499992,\n",
       "        3.99099994,  2.69799995, 11.59799957,  4.24399996,  4.33699989,\n",
       "        3.70700002,  3.49900007,  5.41599989,  3.65700006,  3.43600011,\n",
       "        3.98399997,  2.43000007,  2.66700006,  2.57999992,  3.14199996,\n",
       "        4.41300011,  4.2670002 ,  2.73399997,  3.90899992,  2.03900003,\n",
       "        4.08300018,  2.47199988,  2.26900005,  3.94099998,  1.92700005,\n",
       "        3.23000002,  3.72300005,  4.87300014,  4.36399984,  3.40300012,\n",
       "        2.70000005,  3.88100004,  4.6789999 ,  3.13800001,  2.47000003,\n",
       "        2.55200005,  4.35699987,  3.898     ,  2.46700001,  2.83299994,\n",
       "        4.83500004,  2.81299996,  3.76399994,  4.35099983,  8.13300037,\n",
       "        3.8900001 ,  2.15199995,  4.37699986,  4.        ,  2.08800006,\n",
       "        3.0079999 ,  1.83700001,  7.86899996,  2.74099994,  2.70900011,\n",
       "        2.5539999 ,  2.94000006,  2.58100009,  4.36999989,  2.55200005,\n",
       "        2.83899999, 12.99400043,  3.31399989,  4.40899992,  2.74000001,\n",
       "        2.95099998,  4.36299992,  3.76799989,  2.93499994,  3.76900005,\n",
       "        2.9920001 ,  3.64700007,  2.74699998,  2.94499993,  3.12800002,\n",
       "        2.727     ,  4.46299982,  1.597     ,  2.91899991,  3.98399997,\n",
       "        6.74300003,  3.74699998,  1.926     ,  3.03699994,  2.82800007,\n",
       "        4.75699997,  4.02400017,  2.85299993,  3.51900005,  3.27900004,\n",
       "        2.66000009,  5.46799994,  2.94799995,  2.60800004,  3.796     ,\n",
       "        2.16899991,  4.69999981,  4.80100012,  4.08799982,  3.92700005,\n",
       "        3.48000002,  6.53499985,  4.39900017,  5.0619998 ,  4.52299976,\n",
       "        3.1170001 ,  3.87199998,  3.4519999 ,  2.09100008,  4.0619998 ,\n",
       "        2.94199991,  2.15799999,  5.78200006,  2.79699993,  1.78799999,\n",
       "        1.71000004,  3.13000011,  3.55900002,  2.93300009,  2.89599991,\n",
       "        4.82399988,  2.9230001 ,  4.23199987,  2.5940001 ,  1.77400005,\n",
       "        3.91899991,  2.87100005,  2.9519999 ,  4.46700001,  3.50300002,\n",
       "        4.31099987,  2.23200011,  2.296     ,  2.94899988,  3.27600002,\n",
       "        4.01900005,  3.79999995,  1.954     ,  6.70499992,  1.84399998,\n",
       "        2.39899993,  3.046     ,  2.95499992,  3.23200011,  3.77800012,\n",
       "        1.71099997,  3.73099995,  2.89299989,  2.43099999,  8.77200031,\n",
       "        2.81999993,  2.74099994,  2.69099998,  4.52699995,  3.921     ,\n",
       "        3.90899992,  2.56100011,  2.71499991,  2.98699999,  8.72599983,\n",
       "        1.903     ,  2.59200001,  3.17499995,  2.96700001,  2.93400002,\n",
       "        6.83500004,  3.83599997,  4.75699997,  2.78600001,  3.94099998,\n",
       "        2.53800011,  5.69099998,  3.4289999 ,  4.23699999,  2.82399988,\n",
       "        2.625     ,  2.62700009,  5.41900015,  4.58599997,  3.87199998,\n",
       "        4.71899986,  3.78900003,  3.58599997,  3.69199991,  2.2349999 ,\n",
       "        2.64299989,  1.86899996,  2.96399999,  2.3210001 ,  5.61499977,\n",
       "        3.6960001 ,  3.15799999,  3.83999991,  3.09599996,  1.63800001,\n",
       "        2.89100003,  4.89799976,  2.8900001 ,  4.40199995,  3.23000002,\n",
       "        4.09800005,  3.12700009,  4.6420002 ,  3.14499998,  3.18899989,\n",
       "        3.96600008,  4.09000015,  1.69000006,  2.24399996,  2.5769999 ,\n",
       "        4.09399986,  4.84800005,  3.8829999 ,  2.69700003,  3.71600008,\n",
       "        2.77699995,  3.92499995,  4.42000008,  2.33599997,  4.32299995,\n",
       "        4.73899984,  2.91400003,  3.31500006,  3.71099997,  2.10100007,\n",
       "        3.28900003,  4.00299978,  6.0170002 ,  3.35400009,  3.81699991,\n",
       "        2.47600007,  2.80500007,  4.25699997,  4.35699987,  8.13599968,\n",
       "        6.82499981,  2.02900004, 13.35299969,  2.58200002,  3.81900001,\n",
       "        2.28699994,  4.00699997,  3.80100012,  2.63400006,  3.84699988,\n",
       "       11.96899986,  3.93899989,  3.83200002,  4.46899986,  2.80200005,\n",
       "        3.31999993,  2.95000005,  3.63100004,  2.97600007, 10.20499992,\n",
       "        2.75500011,  2.0250001 ,  4.07700014,  3.65700006,  3.16899991,\n",
       "        3.34899998,  2.58400011,  4.4289999 ,  2.28600001,  2.81599998,\n",
       "        4.38800001,  1.81900001,  5.48500013,  7.26399994,  2.71000004,\n",
       "        2.5       ,  2.56699991,  3.48699999,  3.15300012,  2.32299995,\n",
       "        1.85399997,  9.44299984,  2.77999997,  3.11199999,  3.48200011,\n",
       "        2.53399992,  2.71300006,  1.995     ,  3.22399998,  2.94799995,\n",
       "        3.79999995,  3.0079999 ,  6.78299999,  4.08799982,  3.7809999 ,\n",
       "        3.94499993,  3.49799991,  2.79699993,  3.40400004,  3.68899989,\n",
       "        2.33999991,  3.69000006,  3.58200002,  3.88700008,  7.67399979,\n",
       "        4.01900005,  2.15799999,  2.78600001,  5.97100019,  1.73899996,\n",
       "        4.76200008,  3.59100008,  4.16599989,  3.9849999 ,  3.04999995,\n",
       "        4.17399979,  4.22200012,  4.0079999 ,  4.43300009,  4.3920002 ,\n",
       "        2.00300002,  2.21399999,  4.82399988,  2.63199997,  1.67499995,\n",
       "        5.01100016,  4.61600018,  3.58100009,  2.77200007,  3.82299995,\n",
       "        3.07599998,  1.77900004,  2.74699998,  4.09700012,  3.83400011,\n",
       "        5.00600004,  2.30299997,  3.29699993,  3.06299996,  1.82700002,\n",
       "        8.09500027,  4.18200016,  6.88800001,  1.61399996,  3.02999997,\n",
       "        4.03100014, 10.22999954,  4.171     ,  2.93899989,  4.82700014,\n",
       "        2.7349999 ,  1.75100005,  4.45900011,  3.30999994,  2.9849999 ,\n",
       "        2.65100002,  2.93799996,  3.43499994,  2.31999993,  3.86899996,\n",
       "        4.05600023,  1.63399994,  4.64300013,  4.42500019,  4.53100014,\n",
       "        1.64100003,  2.73699999,  2.16599989,  1.79400003,  2.32800007,\n",
       "        2.91400003,  4.67000008,  2.77399993,  2.97199988,  2.50999999,\n",
       "        3.15499997,  2.98200011,  2.80999994,  3.86500001,  3.6170001 ,\n",
       "        4.37099981,  3.12700009,  3.50600004,  4.51100016,  5.16300011,\n",
       "        2.68199992,  2.95600009,  3.03299999,  7.94199991,  3.53800011,\n",
       "        2.77399993,  3.9749999 ,  4.7249999 ,  2.95900011,  3.39199996,\n",
       "        3.00699997,  2.63400006, 10.51000023,  3.45499992,  2.36400008,\n",
       "        5.62200022,  6.74100018,  4.15799999,  3.05900002,  2.23399997,\n",
       "        4.41800022,  7.96700001,  3.62299991,  2.6329999 ,  2.65700006,\n",
       "        7.24800014,  2.625     ,  3.70700002,  3.44400001,  3.15199995,\n",
       "        3.49799991,  4.58400011,  2.66400003,  7.65799999,  3.14100003,\n",
       "        1.74600005,  4.7670002 ,  3.60500002,  3.11299992,  4.32600021,\n",
       "        2.64299989,  2.6500001 ,  2.17799997,  2.7750001 ,  3.102     ,\n",
       "        4.03900003,  3.99099994,  1.90699995,  2.32399988,  1.98300004,\n",
       "        3.95499992,  2.12599993,  3.1170001 ,  2.90799999,  3.93099999,\n",
       "        2.67499995,  2.85400009,  2.62599993,  2.2019999 ,  2.88899994,\n",
       "        2.57500005,  3.4289999 ,  2.77200007,  3.08200002,  2.06299996,\n",
       "        2.50200009,  4.15999985,  2.77999997,  7.72800016,  3.8499999 ,\n",
       "        2.28200006,  4.89499998,  3.19499993,  2.40499997,  4.57700014,\n",
       "        2.91599989,  1.77999997,  3.70099998,  2.87299991,  4.3039999 ,\n",
       "        3.93300009,  4.61999989,  2.5079999 ,  2.74699998,  2.69799995,\n",
       "        2.79500008,  4.97800016,  3.81800008,  1.58700001,  2.61199999,\n",
       "        5.90999985, 10.05300045,  3.91100001,  2.61899996,  3.63400006,\n",
       "        4.27600002,  3.99300003,  7.80200005,  1.95099998,  2.38599992,\n",
       "        4.1079998 ,  7.90999985,  3.03999996,  2.86500001,  3.954     ,\n",
       "        2.30800009,  2.42700005,  3.87700009,  2.75900006,  3.46000004,\n",
       "        3.56599998,  3.54099989,  3.55500007,  3.73200011,  2.5999999 ,\n",
       "        2.89599991,  4.27699995,  2.68000007,  2.97099996,  3.08500004,\n",
       "        2.19099998,  3.3269999 ,  3.97600007,  3.12700009,  2.82800007,\n",
       "        4.66200018,  3.8269999 ,  3.53399992,  4.39099979,  2.21199989,\n",
       "        2.81399989,  5.29199982,  3.54200006,  2.78299999,  4.59000015,\n",
       "        3.43099999,  2.97399998,  4.26200008,  2.90700006,  3.6960001 ,\n",
       "        3.28500009,  4.13000011,  3.93099999,  5.17199993,  3.55599999,\n",
       "        2.45499992,  3.37299991,  2.14100003,  2.62100005,  4.71000004,\n",
       "        8.1960001 ,  4.24700022,  2.09800005,  2.046     ,  2.83500004,\n",
       "        9.90100002,  1.66600001,  8.38799953,  4.93100023,  3.41799998,\n",
       "        4.13899994,  2.06999993,  3.2420001 ,  2.43099999,  1.75199997,\n",
       "        2.93799996,  5.54199982,  2.96199989,  2.27900004,  2.773     ,\n",
       "        4.31500006,  1.98399997,  3.55500007,  3.58400011,  2.90799999,\n",
       "        4.64599991,  3.00699997,  1.70799994,  1.82700002,  4.81500006,\n",
       "        2.59800005,  3.80200005,  4.59299994,  2.26699996,  6.38600016,\n",
       "        3.829     ,  2.79399991,  3.26600003,  2.67499995,  4.15100002,\n",
       "        2.0150001 ,  5.7420001 ,  4.73000002,  4.16400003,  2.18899989,\n",
       "        3.648     ,  1.93599999,  1.778     , 10.56999969,  2.07599998,\n",
       "        3.46700001,  4.96299982,  3.79299998,  2.26699996,  1.74600005,\n",
       "        5.28999996,  5.33400011,  2.50699997,  5.75099993,  2.94000006,\n",
       "        3.88199997,  3.56599998,  2.93000007,  3.19799995,  1.99199998,\n",
       "        3.56699991,  2.29900002,  1.86099994,  2.83599997,  4.20499992,\n",
       "        1.76699996,  3.53900003,  9.02400017,  3.61899996,  2.15899992,\n",
       "        3.26099992,  2.14700007,  2.40400004,  3.10500002,  2.24799991,\n",
       "        1.83500004,  4.79400015,  8.72599983,  2.35500002,  3.38599992,\n",
       "        2.94099998,  3.3210001 ,  2.35599995,  2.69700003,  5.70900011,\n",
       "        3.90499997,  3.6099999 ,  3.93000007,  3.23000002,  3.73799992,\n",
       "        2.52399993,  4.03499985])"
      ]
     },
     "execution_count": 11,
     "metadata": {},
     "output_type": "execute_result"
    }
   ],
   "source": [
    "pred1"
   ]
  },
  {
   "cell_type": "code",
   "execution_count": 12,
   "id": "900e23eb",
   "metadata": {},
   "outputs": [
    {
     "name": "stdout",
     "output_type": "stream",
     "text": [
      "MSE:-  1.4656063050767086e-30\n",
      "RMSE:-  1.2106222801009027e-15\n",
      "R2_score:-  1.0\n"
     ]
    }
   ],
   "source": [
    "# MSE ---> Mean Squared Error\n",
    "# RMSE ---> sqrt(MSE)\n",
    "# r2_square ---> 1.0 == good value\n",
    "\n",
    "from sklearn.metrics import mean_squared_error, r2_score\n",
    "\n",
    "def calculate_metrics(y_test, y_pred):\n",
    "    \n",
    "    ''' \n",
    "    y_test:- ground truth\n",
    "    y_pred:- model_predict\n",
    "    '''\n",
    "    \n",
    "    mse = mean_squared_error(y_test, y_pred)\n",
    "    rmse = np.sqrt(mse)\n",
    "    r2_scors = r2_score(y_test, y_pred)\n",
    "    \n",
    "    print('MSE:- ', mse)\n",
    "    print('RMSE:- ', rmse)\n",
    "    print('R2_score:- ', r2_scors)\n",
    "    \n",
    "calculate_metrics(y_test, pred1)"
   ]
  },
  {
   "cell_type": "code",
   "execution_count": 13,
   "id": "da39cbb5",
   "metadata": {},
   "outputs": [],
   "source": [
    "from sklearn.linear_model import Lasso, Ridge\n",
    "\n",
    "la = Lasso().fit(X_train, y_train)\n",
    "ri = Ridge().fit(X_train, y_train)\n",
    "\n",
    "la_p = la.predict(X_test)\n",
    "ri_p = ri.predict(X_test)"
   ]
  },
  {
   "cell_type": "code",
   "execution_count": 14,
   "id": "8192e6c4",
   "metadata": {},
   "outputs": [
    {
     "name": "stdout",
     "output_type": "stream",
     "text": [
      "MSE:-  0.2369233626053282\n",
      "RMSE:-  0.4867477402159441\n",
      "R2_score:-  0.9132831519010188\n"
     ]
    }
   ],
   "source": [
    "calculate_metrics(y_test, la_p)"
   ]
  },
  {
   "cell_type": "code",
   "execution_count": 15,
   "id": "635e9e0d",
   "metadata": {},
   "outputs": [
    {
     "name": "stdout",
     "output_type": "stream",
     "text": [
      "MSE:-  2.8965487622267974e-05\n",
      "RMSE:-  0.005381959459366818\n",
      "R2_score:-  0.9999893982773053\n"
     ]
    }
   ],
   "source": [
    "calculate_metrics(y_test, ri_p)"
   ]
  },
  {
   "cell_type": "code",
   "execution_count": 16,
   "id": "bd40f936",
   "metadata": {},
   "outputs": [
    {
     "name": "stdout",
     "output_type": "stream",
     "text": [
      "Fitting 5 folds for each of 20 candidates, totalling 100 fits\n",
      "[CV 1/5] END .......C=0.1, gamma=1, kernel=rbf;, score=-0.075 total time=   0.9s\n",
      "[CV 2/5] END .......C=0.1, gamma=1, kernel=rbf;, score=-0.070 total time=   0.9s\n",
      "[CV 3/5] END .......C=0.1, gamma=1, kernel=rbf;, score=-0.072 total time=   0.9s\n",
      "[CV 4/5] END .......C=0.1, gamma=1, kernel=rbf;, score=-0.073 total time=   0.8s\n",
      "[CV 5/5] END .......C=0.1, gamma=1, kernel=rbf;, score=-0.050 total time=   0.9s\n",
      "[CV 1/5] END .....C=0.1, gamma=0.1, kernel=rbf;, score=-0.074 total time=   1.2s\n",
      "[CV 2/5] END .....C=0.1, gamma=0.1, kernel=rbf;, score=-0.070 total time=   0.9s\n",
      "[CV 3/5] END .....C=0.1, gamma=0.1, kernel=rbf;, score=-0.072 total time=   0.8s\n",
      "[CV 4/5] END .....C=0.1, gamma=0.1, kernel=rbf;, score=-0.072 total time=   1.0s\n",
      "[CV 5/5] END .....C=0.1, gamma=0.1, kernel=rbf;, score=-0.050 total time=   0.9s\n",
      "[CV 1/5] END ...C=0.1, gamma=0.001, kernel=rbf;, score=-0.065 total time=   0.8s\n",
      "[CV 2/5] END ...C=0.1, gamma=0.001, kernel=rbf;, score=-0.064 total time=   1.0s\n",
      "[CV 3/5] END ...C=0.1, gamma=0.001, kernel=rbf;, score=-0.064 total time=   0.9s\n",
      "[CV 4/5] END ...C=0.1, gamma=0.001, kernel=rbf;, score=-0.060 total time=   0.8s\n",
      "[CV 5/5] END ...C=0.1, gamma=0.001, kernel=rbf;, score=-0.047 total time=   0.9s\n",
      "[CV 1/5] END ..C=0.1, gamma=0.0001, kernel=rbf;, score=-0.052 total time=   0.8s\n",
      "[CV 2/5] END ..C=0.1, gamma=0.0001, kernel=rbf;, score=-0.049 total time=   1.0s\n",
      "[CV 3/5] END ..C=0.1, gamma=0.0001, kernel=rbf;, score=-0.042 total time=   1.0s\n",
      "[CV 4/5] END ..C=0.1, gamma=0.0001, kernel=rbf;, score=-0.042 total time=   0.8s\n",
      "[CV 5/5] END ..C=0.1, gamma=0.0001, kernel=rbf;, score=-0.034 total time=   0.8s\n",
      "[CV 1/5] END .........C=1, gamma=1, kernel=rbf;, score=-0.038 total time=   0.9s\n",
      "[CV 2/5] END .........C=1, gamma=1, kernel=rbf;, score=-0.037 total time=   1.1s\n",
      "[CV 3/5] END .........C=1, gamma=1, kernel=rbf;, score=-0.040 total time=   1.0s\n",
      "[CV 4/5] END .........C=1, gamma=1, kernel=rbf;, score=-0.041 total time=   1.2s\n",
      "[CV 5/5] END .........C=1, gamma=1, kernel=rbf;, score=-0.021 total time=   0.9s\n",
      "[CV 1/5] END .......C=1, gamma=0.1, kernel=rbf;, score=-0.036 total time=   0.9s\n",
      "[CV 2/5] END .......C=1, gamma=0.1, kernel=rbf;, score=-0.036 total time=   0.9s\n",
      "[CV 3/5] END .......C=1, gamma=0.1, kernel=rbf;, score=-0.039 total time=   1.1s\n",
      "[CV 4/5] END .......C=1, gamma=0.1, kernel=rbf;, score=-0.039 total time=   1.1s\n",
      "[CV 5/5] END .......C=1, gamma=0.1, kernel=rbf;, score=-0.021 total time=   0.9s\n",
      "[CV 1/5] END .....C=1, gamma=0.001, kernel=rbf;, score=-0.028 total time=   0.9s\n",
      "[CV 2/5] END .....C=1, gamma=0.001, kernel=rbf;, score=-0.053 total time=   1.1s\n",
      "[CV 3/5] END .....C=1, gamma=0.001, kernel=rbf;, score=-0.042 total time=   1.0s\n",
      "[CV 4/5] END .....C=1, gamma=0.001, kernel=rbf;, score=-0.005 total time=   0.9s\n",
      "[CV 5/5] END .....C=1, gamma=0.001, kernel=rbf;, score=-0.027 total time=   0.9s\n",
      "[CV 1/5] END ....C=1, gamma=0.0001, kernel=rbf;, score=-0.026 total time=   0.9s\n",
      "[CV 2/5] END ....C=1, gamma=0.0001, kernel=rbf;, score=-0.042 total time=   0.9s\n",
      "[CV 3/5] END .....C=1, gamma=0.0001, kernel=rbf;, score=0.002 total time=   0.9s\n",
      "[CV 4/5] END .....C=1, gamma=0.0001, kernel=rbf;, score=0.011 total time=   0.9s\n",
      "[CV 5/5] END ....C=1, gamma=0.0001, kernel=rbf;, score=-0.038 total time=   0.9s\n",
      "[CV 1/5] END .........C=10, gamma=1, kernel=rbf;, score=0.002 total time=   1.0s\n",
      "[CV 2/5] END .........C=10, gamma=1, kernel=rbf;, score=0.002 total time=   1.3s\n",
      "[CV 3/5] END .........C=10, gamma=1, kernel=rbf;, score=0.001 total time=   1.2s\n",
      "[CV 4/5] END .........C=10, gamma=1, kernel=rbf;, score=0.001 total time=   1.0s\n",
      "[CV 5/5] END ........C=10, gamma=1, kernel=rbf;, score=-0.006 total time=   1.0s\n",
      "[CV 1/5] END .......C=10, gamma=0.1, kernel=rbf;, score=0.003 total time=   1.0s\n",
      "[CV 2/5] END .......C=10, gamma=0.1, kernel=rbf;, score=0.005 total time=   1.0s\n",
      "[CV 3/5] END .......C=10, gamma=0.1, kernel=rbf;, score=0.004 total time=   1.0s\n",
      "[CV 4/5] END .......C=10, gamma=0.1, kernel=rbf;, score=0.003 total time=   1.1s\n",
      "[CV 5/5] END ......C=10, gamma=0.1, kernel=rbf;, score=-0.003 total time=   1.2s\n",
      "[CV 1/5] END ....C=10, gamma=0.001, kernel=rbf;, score=-0.059 total time=   1.3s\n",
      "[CV 2/5] END ....C=10, gamma=0.001, kernel=rbf;, score=-0.095 total time=   1.2s\n",
      "[CV 3/5] END ....C=10, gamma=0.001, kernel=rbf;, score=-0.233 total time=   1.2s\n",
      "[CV 4/5] END .....C=10, gamma=0.001, kernel=rbf;, score=0.014 total time=   1.1s\n",
      "[CV 5/5] END ....C=10, gamma=0.001, kernel=rbf;, score=-0.056 total time=   1.2s\n",
      "[CV 1/5] END ...C=10, gamma=0.0001, kernel=rbf;, score=-0.192 total time=   1.4s\n",
      "[CV 2/5] END ...C=10, gamma=0.0001, kernel=rbf;, score=-0.166 total time=   1.3s\n",
      "[CV 3/5] END ...C=10, gamma=0.0001, kernel=rbf;, score=-0.388 total time=   1.4s\n",
      "[CV 4/5] END ...C=10, gamma=0.0001, kernel=rbf;, score=-0.226 total time=   1.3s\n",
      "[CV 5/5] END ...C=10, gamma=0.0001, kernel=rbf;, score=-0.143 total time=   1.3s\n",
      "[CV 1/5] END ........C=100, gamma=1, kernel=rbf;, score=0.002 total time=   1.0s\n",
      "[CV 2/5] END ........C=100, gamma=1, kernel=rbf;, score=0.002 total time=   1.0s\n",
      "[CV 3/5] END ........C=100, gamma=1, kernel=rbf;, score=0.001 total time=   1.2s\n",
      "[CV 4/5] END ........C=100, gamma=1, kernel=rbf;, score=0.001 total time=   1.1s\n",
      "[CV 5/5] END .......C=100, gamma=1, kernel=rbf;, score=-0.006 total time=   1.0s\n",
      "[CV 1/5] END ......C=100, gamma=0.1, kernel=rbf;, score=0.003 total time=   1.0s\n",
      "[CV 2/5] END ......C=100, gamma=0.1, kernel=rbf;, score=0.005 total time=   1.0s\n",
      "[CV 3/5] END ......C=100, gamma=0.1, kernel=rbf;, score=0.004 total time=   1.0s\n",
      "[CV 4/5] END ......C=100, gamma=0.1, kernel=rbf;, score=0.003 total time=   1.0s\n",
      "[CV 5/5] END .....C=100, gamma=0.1, kernel=rbf;, score=-0.003 total time=   1.0s\n",
      "[CV 1/5] END ...C=100, gamma=0.001, kernel=rbf;, score=-0.056 total time=   1.3s\n",
      "[CV 2/5] END ...C=100, gamma=0.001, kernel=rbf;, score=-0.108 total time=   1.6s\n",
      "[CV 3/5] END ...C=100, gamma=0.001, kernel=rbf;, score=-0.252 total time=   1.4s\n",
      "[CV 4/5] END ....C=100, gamma=0.001, kernel=rbf;, score=0.002 total time=   1.4s\n",
      "[CV 5/5] END ...C=100, gamma=0.001, kernel=rbf;, score=-0.092 total time=   1.6s\n",
      "[CV 1/5] END ..C=100, gamma=0.0001, kernel=rbf;, score=-0.442 total time=   2.7s\n",
      "[CV 2/5] END ..C=100, gamma=0.0001, kernel=rbf;, score=-0.795 total time=   2.6s\n",
      "[CV 3/5] END ..C=100, gamma=0.0001, kernel=rbf;, score=-0.742 total time=   2.6s\n",
      "[CV 4/5] END ..C=100, gamma=0.0001, kernel=rbf;, score=-0.536 total time=   2.4s\n",
      "[CV 5/5] END ..C=100, gamma=0.0001, kernel=rbf;, score=-1.069 total time=   2.8s\n",
      "[CV 1/5] END .......C=1000, gamma=1, kernel=rbf;, score=0.002 total time=   1.0s\n",
      "[CV 2/5] END .......C=1000, gamma=1, kernel=rbf;, score=0.002 total time=   1.3s\n",
      "[CV 3/5] END .......C=1000, gamma=1, kernel=rbf;, score=0.001 total time=   1.1s\n",
      "[CV 4/5] END .......C=1000, gamma=1, kernel=rbf;, score=0.001 total time=   1.4s\n",
      "[CV 5/5] END ......C=1000, gamma=1, kernel=rbf;, score=-0.006 total time=   1.1s\n",
      "[CV 1/5] END .....C=1000, gamma=0.1, kernel=rbf;, score=0.003 total time=   1.0s\n",
      "[CV 2/5] END .....C=1000, gamma=0.1, kernel=rbf;, score=0.005 total time=   1.1s\n",
      "[CV 3/5] END .....C=1000, gamma=0.1, kernel=rbf;, score=0.004 total time=   1.1s\n",
      "[CV 4/5] END .....C=1000, gamma=0.1, kernel=rbf;, score=0.003 total time=   1.1s\n",
      "[CV 5/5] END ....C=1000, gamma=0.1, kernel=rbf;, score=-0.003 total time=   1.1s\n",
      "[CV 1/5] END ..C=1000, gamma=0.001, kernel=rbf;, score=-0.055 total time=   1.3s\n",
      "[CV 2/5] END ..C=1000, gamma=0.001, kernel=rbf;, score=-0.108 total time=   1.8s\n",
      "[CV 3/5] END ..C=1000, gamma=0.001, kernel=rbf;, score=-0.252 total time=   1.4s\n",
      "[CV 4/5] END ...C=1000, gamma=0.001, kernel=rbf;, score=0.002 total time=   1.4s\n",
      "[CV 5/5] END ..C=1000, gamma=0.001, kernel=rbf;, score=-0.092 total time=   1.6s\n",
      "[CV 1/5] END .C=1000, gamma=0.0001, kernel=rbf;, score=-0.585 total time=   9.3s\n",
      "[CV 2/5] END .C=1000, gamma=0.0001, kernel=rbf;, score=-1.033 total time=  11.2s\n",
      "[CV 3/5] END .C=1000, gamma=0.0001, kernel=rbf;, score=-0.810 total time=  11.1s\n",
      "[CV 4/5] END .C=1000, gamma=0.0001, kernel=rbf;, score=-0.707 total time=  10.0s\n",
      "[CV 5/5] END .C=1000, gamma=0.0001, kernel=rbf;, score=-1.049 total time=   9.6s\n"
     ]
    },
    {
     "data": {
      "text/plain": [
       "GridSearchCV(estimator=SVR(),\n",
       "             param_grid={'C': [0.1, 1, 10, 100, 1000],\n",
       "                         'gamma': [1, 0.1, 0.001, 0.0001], 'kernel': ['rbf']},\n",
       "             verbose=3)"
      ]
     },
     "execution_count": 16,
     "metadata": {},
     "output_type": "execute_result"
    }
   ],
   "source": [
    "from sklearn.svm import SVR \n",
    "from sklearn.model_selection import GridSearchCV\n",
    "\n",
    "svr = SVR()\n",
    "\n",
    "param_grid = {'C': [0.1, 1, 10, 100, 1000],\n",
    "             'gamma': [1, 0.1, 0.001, 0.0001],\n",
    "             'kernel': ['rbf']}\n",
    "\n",
    "grid = GridSearchCV(SVR(), param_grid, refit=True, verbose=3)\n",
    "grid.fit(X_train, y_train)"
   ]
  },
  {
   "cell_type": "code",
   "execution_count": 17,
   "id": "c82d4eb3",
   "metadata": {},
   "outputs": [],
   "source": [
    "svr = SVR(C=10, gamma=0.01, kernel='rbf')\n",
    "svr.fit(X_train, y_train)\n",
    "svr_pred = svr.predict(X_test)"
   ]
  },
  {
   "cell_type": "code",
   "execution_count": 18,
   "id": "44f92226",
   "metadata": {},
   "outputs": [
    {
     "name": "stdout",
     "output_type": "stream",
     "text": [
      "MSE:-  2.698929409272651\n",
      "RMSE:-  1.6428418698318628\n",
      "R2_score:-  0.012158830433103285\n"
     ]
    }
   ],
   "source": [
    "calculate_metrics(y_test, svr_pred)"
   ]
  },
  {
   "cell_type": "code",
   "execution_count": 23,
   "id": "2f32a400",
   "metadata": {},
   "outputs": [],
   "source": [
    "import joblib\n",
    "\n",
    "joblib.dump(ri, 'model.pkl')\n",
    "\n",
    "ridge_from_joblib = model = joblib.load('model.pkl')"
   ]
  },
  {
   "cell_type": "code",
   "execution_count": null,
   "id": "eb1d6392",
   "metadata": {},
   "outputs": [],
   "source": []
  },
  {
   "cell_type": "code",
   "execution_count": null,
   "id": "967c6dbc",
   "metadata": {},
   "outputs": [],
   "source": []
  }
 ],
 "metadata": {
  "kernelspec": {
   "display_name": "Python 3 (ipykernel)",
   "language": "python",
   "name": "python3"
  },
  "language_info": {
   "codemirror_mode": {
    "name": "ipython",
    "version": 3
   },
   "file_extension": ".py",
   "mimetype": "text/x-python",
   "name": "python",
   "nbconvert_exporter": "python",
   "pygments_lexer": "ipython3",
   "version": "3.9.9"
  }
 },
 "nbformat": 4,
 "nbformat_minor": 5
}
